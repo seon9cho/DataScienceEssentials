{
 "cells": [
  {
   "cell_type": "markdown",
   "metadata": {},
   "source": [
    "# Volume 3: MongoDB.\n",
    "    <Name>\n",
    "    <Class>\n",
    "    <Date>"
   ]
  },
  {
   "cell_type": "code",
   "execution_count": 87,
   "metadata": {},
   "outputs": [],
   "source": [
    "import re\n",
    "import json\n",
    "from pymongo import MongoClient"
   ]
  },
  {
   "cell_type": "markdown",
   "metadata": {},
   "source": [
    "## Problem 1\n",
    "\n",
    "The file `trump.json` contains posts from http://www.twitter.com (tweets) over the course of an hour that have the key word \"trump\".\n",
    "Each line in the file is a single JSON message that can be loaded with `json.loads()`.\n",
    "\n",
    "Create a MongoDB database and initialize a collection in the database.\n",
    "Use the collection's `delete_many()` method with an empy set as input to clear existing contents of the collection, then fill the collection one line at a time with the data from `trump.json`.\n",
    "Check that your collection has 95,643 entries with its `count()` method."
   ]
  },
  {
   "cell_type": "code",
   "execution_count": 2,
   "metadata": {},
   "outputs": [
    {
     "name": "stdout",
     "output_type": "stream",
     "text": [
      "connected\n"
     ]
    }
   ],
   "source": [
    "client = MongoClient()\n",
    "print(\"connected\")\n",
    "db = client.db1\n",
    "col = db.collection1\n",
    "col.delete_many({})\n",
    "with open(\"trump.json\", 'r') as f:\n",
    "    data = f.readlines()\n",
    "for d in data:\n",
    "    trump = json.loads(d)\n",
    "    col.insert_one(trump)"
   ]
  },
  {
   "cell_type": "code",
   "execution_count": 4,
   "metadata": {},
   "outputs": [
    {
     "data": {
      "text/plain": [
       "95643"
      ]
     },
     "execution_count": 4,
     "metadata": {},
     "output_type": "execute_result"
    }
   ],
   "source": [
    "col.estimated_document_count()"
   ]
  },
  {
   "cell_type": "markdown",
   "metadata": {},
   "source": [
    "## Problem 2\n",
    "\n",
    "Query the Twitter collection for the following information.\n",
    "- How many tweets include the word Russia? Use `re.IGNORECASE`.\n",
    "- How many tweets came from one of the main continental US time zones? These are listed as `\"Central Time (US & Canada)\"`, `\"Pacific Time (US & Canada)\"`, `\"Eastern Time (US & Canada)\"`, and `\"Mountain Time (US & Canada)\"`.\n",
    "- How often does each language occur? Construct a dictionary with each language and it’s frequency count."
   ]
  },
  {
   "cell_type": "code",
   "execution_count": 90,
   "metadata": {},
   "outputs": [
    {
     "data": {
      "text/plain": [
       "{'_id': ObjectId('5c15cad4fbdc862d5cf462d0'),\n",
       " 'contributors': None,\n",
       " 'coordinates': None,\n",
       " 'created_at': 'Fri May 26 19:18:30 +0000 2017',\n",
       " 'entities': {'hashtags': [{'indices': [112, 117], 'text': 'maga'},\n",
       "   {'indices': [118, 129], 'text': 'trumptrain'},\n",
       "   {'indices': [130, 136], 'text': 'trump'}],\n",
       "  'symbols': [],\n",
       "  'urls': [{'display_url': 'truthfeed.com/liberal-spin-d…',\n",
       "    'expanded_url': 'http://truthfeed.com/liberal-spin-democrats-are-saying-that-losing-in-montana-is-a-win/76338/',\n",
       "    'indices': [88, 111],\n",
       "    'url': 'https://t.co/t6QJFs0i4S'}],\n",
       "  'user_mentions': [{'id': 707278892801765377,\n",
       "    'id_str': '707278892801765377',\n",
       "    'indices': [3, 17],\n",
       "    'name': 'TruthFeed News',\n",
       "    'screen_name': 'TruthFeedNews'}]},\n",
       " 'favorite_count': 0,\n",
       " 'favorited': False,\n",
       " 'filter_level': 'low',\n",
       " 'geo': None,\n",
       " 'id': 868184586844549121,\n",
       " 'id_str': '868184586844549121',\n",
       " 'in_reply_to_screen_name': None,\n",
       " 'in_reply_to_status_id': None,\n",
       " 'in_reply_to_status_id_str': None,\n",
       " 'in_reply_to_user_id': None,\n",
       " 'in_reply_to_user_id_str': None,\n",
       " 'is_quote_status': False,\n",
       " 'lang': 'en',\n",
       " 'place': None,\n",
       " 'possibly_sensitive': False,\n",
       " 'retweet_count': 0,\n",
       " 'retweeted': False,\n",
       " 'retweeted_status': {'contributors': None,\n",
       "  'coordinates': None,\n",
       "  'created_at': 'Fri May 26 17:17:41 +0000 2017',\n",
       "  'entities': {'hashtags': [{'indices': [93, 98], 'text': 'maga'},\n",
       "    {'indices': [99, 110], 'text': 'trumptrain'},\n",
       "    {'indices': [111, 117], 'text': 'trump'}],\n",
       "   'symbols': [],\n",
       "   'urls': [{'display_url': 'truthfeed.com/liberal-spin-d…',\n",
       "     'expanded_url': 'http://truthfeed.com/liberal-spin-democrats-are-saying-that-losing-in-montana-is-a-win/76338/',\n",
       "     'indices': [69, 92],\n",
       "     'url': 'https://t.co/t6QJFs0i4S'}],\n",
       "   'user_mentions': []},\n",
       "  'favorite_count': 25,\n",
       "  'favorited': False,\n",
       "  'filter_level': 'low',\n",
       "  'geo': None,\n",
       "  'id': 868154183190552576,\n",
       "  'id_str': '868154183190552576',\n",
       "  'in_reply_to_screen_name': None,\n",
       "  'in_reply_to_status_id': None,\n",
       "  'in_reply_to_status_id_str': None,\n",
       "  'in_reply_to_user_id': None,\n",
       "  'in_reply_to_user_id_str': None,\n",
       "  'is_quote_status': False,\n",
       "  'lang': 'en',\n",
       "  'place': None,\n",
       "  'possibly_sensitive': False,\n",
       "  'retweet_count': 29,\n",
       "  'retweeted': False,\n",
       "  'source': '<a href=\"http://twitter.com\" rel=\"nofollow\">Twitter Web Client</a>',\n",
       "  'text': 'LIBERAL SPIN: Democrats Are Saying That Losing in Montana is \"A Win\" https://t.co/t6QJFs0i4S #maga #trumptrain #trump',\n",
       "  'truncated': False,\n",
       "  'user': {'contributors_enabled': False,\n",
       "   'created_at': 'Tue Mar 08 18:56:43 +0000 2016',\n",
       "   'default_profile': False,\n",
       "   'default_profile_image': False,\n",
       "   'description': 'Find us at https://truthfeed.com and on FB https://www.facebook.com/truthfeed',\n",
       "   'favourites_count': 358,\n",
       "   'follow_request_sent': None,\n",
       "   'followers_count': 17444,\n",
       "   'following': None,\n",
       "   'friends_count': 16,\n",
       "   'geo_enabled': False,\n",
       "   'id': 707278892801765377,\n",
       "   'id_str': '707278892801765377',\n",
       "   'is_translator': False,\n",
       "   'lang': 'en',\n",
       "   'listed_count': 223,\n",
       "   'location': None,\n",
       "   'name': 'TruthFeed News',\n",
       "   'notifications': None,\n",
       "   'profile_background_color': '000000',\n",
       "   'profile_background_image_url': 'http://abs.twimg.com/images/themes/theme1/bg.png',\n",
       "   'profile_background_image_url_https': 'https://abs.twimg.com/images/themes/theme1/bg.png',\n",
       "   'profile_background_tile': False,\n",
       "   'profile_banner_url': 'https://pbs.twimg.com/profile_banners/707278892801765377/1484913229',\n",
       "   'profile_image_url': 'http://pbs.twimg.com/profile_images/724552641766813696/FYuVNVh6_normal.jpg',\n",
       "   'profile_image_url_https': 'https://pbs.twimg.com/profile_images/724552641766813696/FYuVNVh6_normal.jpg',\n",
       "   'profile_link_color': 'ABB8C2',\n",
       "   'profile_sidebar_border_color': '000000',\n",
       "   'profile_sidebar_fill_color': '000000',\n",
       "   'profile_text_color': '000000',\n",
       "   'profile_use_background_image': False,\n",
       "   'protected': False,\n",
       "   'screen_name': 'TruthFeedNews',\n",
       "   'statuses_count': 12987,\n",
       "   'time_zone': None,\n",
       "   'url': 'http://truthfeed.com',\n",
       "   'utc_offset': None,\n",
       "   'verified': False}},\n",
       " 'source': '<a href=\"http://twitter.com\" rel=\"nofollow\">Twitter Web Client</a>',\n",
       " 'text': 'RT @TruthFeedNews: LIBERAL SPIN: Democrats Are Saying That Losing in Montana is \"A Win\" https://t.co/t6QJFs0i4S #maga #trumptrain #trump',\n",
       " 'timestamp_ms': '1495826310250',\n",
       " 'truncated': False,\n",
       " 'user': {'contributors_enabled': False,\n",
       "  'created_at': 'Sun Jul 27 11:41:12 +0000 2008',\n",
       "  'default_profile': False,\n",
       "  'default_profile_image': False,\n",
       "  'description': 'Liberated #Hollywood entertainment industry artist and producer. Exposing #scumbags...especially #illuminati, #warmongers and #zionists. #CorruptionDisruption',\n",
       "  'favourites_count': 15622,\n",
       "  'follow_request_sent': None,\n",
       "  'followers_count': 5393,\n",
       "  'following': None,\n",
       "  'friends_count': 2551,\n",
       "  'geo_enabled': False,\n",
       "  'id': 15619384,\n",
       "  'id_str': '15619384',\n",
       "  'is_translator': False,\n",
       "  'lang': 'en',\n",
       "  'listed_count': 148,\n",
       "  'location': 'Hollywood, California',\n",
       "  'name': 'gab.ai/Meowma',\n",
       "  'notifications': None,\n",
       "  'profile_background_color': '333333',\n",
       "  'profile_background_image_url': 'http://pbs.twimg.com/profile_background_images/2941822/stars_background.png',\n",
       "  'profile_background_image_url_https': 'https://pbs.twimg.com/profile_background_images/2941822/stars_background.png',\n",
       "  'profile_background_tile': True,\n",
       "  'profile_banner_url': 'https://pbs.twimg.com/profile_banners/15619384/1480107420',\n",
       "  'profile_image_url': 'http://pbs.twimg.com/profile_images/803094514860756992/h0jdrPo3_normal.jpg',\n",
       "  'profile_image_url_https': 'https://pbs.twimg.com/profile_images/803094514860756992/h0jdrPo3_normal.jpg',\n",
       "  'profile_link_color': '0000FF',\n",
       "  'profile_sidebar_border_color': '87BC44',\n",
       "  'profile_sidebar_fill_color': '94A6FF',\n",
       "  'profile_text_color': '666666',\n",
       "  'profile_use_background_image': True,\n",
       "  'protected': False,\n",
       "  'screen_name': 'Meowma',\n",
       "  'statuses_count': 22216,\n",
       "  'time_zone': 'Pacific Time (US & Canada)',\n",
       "  'url': 'https://youtu.be/PkBxePSZ1ZI',\n",
       "  'utc_offset': -25200,\n",
       "  'verified': False}}"
      ]
     },
     "execution_count": 90,
     "metadata": {},
     "output_type": "execute_result"
    }
   ],
   "source": [
    "col.find()[0]"
   ]
  },
  {
   "cell_type": "code",
   "execution_count": 91,
   "metadata": {},
   "outputs": [
    {
     "name": "stderr",
     "output_type": "stream",
     "text": [
      "/Users/Seong-EunCho/anaconda/lib/python3.6/site-packages/ipykernel_launcher.py:2: DeprecationWarning: count is deprecated. Use Collection.count_documents instead.\n",
      "  \n"
     ]
    },
    {
     "data": {
      "text/plain": [
       "5841"
      ]
     },
     "execution_count": 91,
     "metadata": {},
     "output_type": "execute_result"
    }
   ],
   "source": [
    "results = col.find({'text': {'$regex': re.compile(r'russia', re.IGNORECASE)}})\n",
    "results.count()"
   ]
  },
  {
   "cell_type": "code",
   "execution_count": 93,
   "metadata": {
    "scrolled": true
   },
   "outputs": [
    {
     "name": "stderr",
     "output_type": "stream",
     "text": [
      "/Users/Seong-EunCho/anaconda/lib/python3.6/site-packages/ipykernel_launcher.py:3: DeprecationWarning: count is deprecated. Use Collection.count_documents instead.\n",
      "  This is separate from the ipykernel package so we can avoid doing imports until\n"
     ]
    },
    {
     "data": {
      "text/plain": [
       "33939"
      ]
     },
     "execution_count": 93,
     "metadata": {},
     "output_type": "execute_result"
    }
   ],
   "source": [
    "time_zones = [\"Central Time (US & Canada)\", \"Pacific Time (US & Canada)\", \"Eastern Time (US & Canada)\", \"Mountain Time (US & Canada)\"]\n",
    "results = col.find({'user.time_zone': {\"$in\": time_zones}})\n",
    "results.count()"
   ]
  },
  {
   "cell_type": "code",
   "execution_count": 96,
   "metadata": {},
   "outputs": [
    {
     "name": "stderr",
     "output_type": "stream",
     "text": [
      "/Users/Seong-EunCho/anaconda/lib/python3.6/site-packages/ipykernel_launcher.py:2: DeprecationWarning: count is deprecated. Use Collection.count_documents instead.\n",
      "  \n"
     ]
    },
    {
     "data": {
      "text/plain": [
       "{'ar': 30,\n",
       " 'cs': 13,\n",
       " 'cy': 2,\n",
       " 'da': 35,\n",
       " 'de': 635,\n",
       " 'el': 10,\n",
       " 'en': 84919,\n",
       " 'es': 3027,\n",
       " 'et': 23,\n",
       " 'eu': 6,\n",
       " 'fa': 5,\n",
       " 'fi': 20,\n",
       " 'fr': 1235,\n",
       " 'ht': 21,\n",
       " 'hu': 6,\n",
       " 'in': 121,\n",
       " 'is': 1,\n",
       " 'it': 423,\n",
       " 'iw': 1,\n",
       " 'ja': 17,\n",
       " 'ko': 2,\n",
       " 'lt': 8,\n",
       " 'lv': 2,\n",
       " 'nl': 212,\n",
       " 'no': 21,\n",
       " 'pl': 108,\n",
       " 'pt': 632,\n",
       " 'ro': 21,\n",
       " 'ru': 29,\n",
       " 'sl': 3,\n",
       " 'sv': 55,\n",
       " 'th': 3,\n",
       " 'tl': 48,\n",
       " 'tr': 588,\n",
       " 'uk': 3,\n",
       " 'und': 1653,\n",
       " 'ur': 1,\n",
       " 'vi': 7,\n",
       " 'zh': 1}"
      ]
     },
     "execution_count": 96,
     "metadata": {},
     "output_type": "execute_result"
    }
   ],
   "source": [
    "lang = col.distinct(\"lang\")\n",
    "lang_dict = {l: col.find({\"lang\": l}).count() for l in lang}\n",
    "lang_dict"
   ]
  },
  {
   "cell_type": "markdown",
   "metadata": {},
   "source": [
    "## Problem 3\n",
    "\n",
    "Query the Twitter collection from Problem 1 for the following information.\n",
    "- What are the usernames of the 5 most popular (defined as having the most followers) tweeters? Don’t include repeats.\n",
    "- Of the tweets containing at least 5 hashtags, sort the tweets by how early the 5th hashtag appears in the text. What is the earliest spot (character count) it appears?\n",
    "- What are the coordinates of the tweet that came from the northernmost location? Use the latitude and longitude point in `\"coordinates\"`."
   ]
  },
  {
   "cell_type": "code",
   "execution_count": 112,
   "metadata": {},
   "outputs": [
    {
     "name": "stdout",
     "output_type": "stream",
     "text": [
      "CNN\n",
      "Reuters Top News\n",
      "Fox News\n",
      "Wall Street Journal\n",
      "TIME\n"
     ]
    }
   ],
   "source": [
    "results = col.find().sort('user.followers_count', -1)\n",
    "curr_outputs = []\n",
    "for r in results[:7]:\n",
    "    if r['user']['name'] not in curr_outputs:\n",
    "        print(r['user']['name'])\n",
    "    curr_outputs.append(r['user']['name'])"
   ]
  },
  {
   "cell_type": "code",
   "execution_count": 119,
   "metadata": {},
   "outputs": [
    {
     "data": {
      "text/plain": [
       "23"
      ]
     },
     "execution_count": 119,
     "metadata": {},
     "output_type": "execute_result"
    }
   ],
   "source": [
    "results = col.find({\"entities.hashtags.4\": {\"$exists\": True}}).sort(\"entities.hashtags.4.indices.0\")\n",
    "results[0][\"entities\"][\"hashtags\"][4][\"indices\"][0]\n"
   ]
  },
  {
   "cell_type": "code",
   "execution_count": 139,
   "metadata": {},
   "outputs": [
    {
     "data": {
      "text/plain": [
       "28.03908658"
      ]
     },
     "execution_count": 139,
     "metadata": {},
     "output_type": "execute_result"
    }
   ],
   "source": [
    "results = col.find({\"coordinates.coordinates\": {\"$exists\": True}}).sort(\"coordinates.coordinates.0\", -1)\n",
    "results[1][\"coordinates\"][\"coordinates\"][0]"
   ]
  },
  {
   "cell_type": "markdown",
   "metadata": {},
   "source": [
    "## Problem 4\n",
    "\n",
    "Clean the Twitter collection in the following ways.\n",
    "\n",
    "- Get rid of the `\"retweeted_status\"` field in each tweet.\n",
    "- Update every tweet from someone with at least 1000 followers to include a popular field whose value is True. Report the number of popular tweets.\n",
    "- (OPTIONAL) The geographical coordinates used before in coordinates.coordinates are turned off for most tweets. But many more have a bounding box around the coordinates in the place field. Update every tweet without coordinates that contains a bounding box so that the coordinates contains the average value of the points that form the bounding box. Make the structure of coordinates the same as the others, so it contains coordinates with a longitude, latitude array and a type, the value of which should be ’Point’."
   ]
  },
  {
   "cell_type": "code",
   "execution_count": 144,
   "metadata": {},
   "outputs": [
    {
     "name": "stderr",
     "output_type": "stream",
     "text": [
      "/Users/Seong-EunCho/anaconda/lib/python3.6/site-packages/ipykernel_launcher.py:3: DeprecationWarning: count is deprecated. Use Collection.count_documents instead.\n",
      "  This is separate from the ipykernel package so we can avoid doing imports until\n"
     ]
    },
    {
     "data": {
      "text/plain": [
       "0"
      ]
     },
     "execution_count": 144,
     "metadata": {},
     "output_type": "execute_result"
    }
   ],
   "source": [
    "col.update_many({\"retweeted_status\": {\"$exists\": True}}, {'$unset': {\"retweeted_status\": {\"$exists\": True}}})\n",
    "results = col.find({\"retweeted_status\": {\"$exists\": True}})\n",
    "results.count()"
   ]
  },
  {
   "cell_type": "code",
   "execution_count": 153,
   "metadata": {},
   "outputs": [
    {
     "name": "stderr",
     "output_type": "stream",
     "text": [
      "/Users/Seong-EunCho/anaconda/lib/python3.6/site-packages/ipykernel_launcher.py:3: DeprecationWarning: count is deprecated. Use Collection.count_documents instead.\n",
      "  This is separate from the ipykernel package so we can avoid doing imports until\n"
     ]
    },
    {
     "data": {
      "text/plain": [
       "32481"
      ]
     },
     "execution_count": 153,
     "metadata": {},
     "output_type": "execute_result"
    }
   ],
   "source": [
    "col.update_many({\"user.followers_count\": {\"$gt\": 1000}}, {\"$set\": {'popular': True}})\n",
    "results = col.find({\"popular\": {\"$exists\": True}})\n",
    "results.count()"
   ]
  },
  {
   "cell_type": "code",
   "execution_count": null,
   "metadata": {},
   "outputs": [],
   "source": []
  }
 ],
 "metadata": {
  "kernelspec": {
   "display_name": "Python 3",
   "language": "python",
   "name": "python3"
  },
  "language_info": {
   "codemirror_mode": {
    "name": "ipython",
    "version": 3
   },
   "file_extension": ".py",
   "mimetype": "text/x-python",
   "name": "python",
   "nbconvert_exporter": "python",
   "pygments_lexer": "ipython3",
   "version": "3.6.0"
  }
 },
 "nbformat": 4,
 "nbformat_minor": 2
}
